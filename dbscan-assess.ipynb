{
 "cells": [
  {
   "cell_type": "code",
   "execution_count": 12,
   "id": "30137aa1",
   "metadata": {},
   "outputs": [],
   "source": [
    "import pandas as pd\n",
    "from sklearn.cluster import DBSCAN\n",
    "from sklearn.preprocessing import StandardScaler\n",
    "import matplotlib.pyplot as plt\n",
    "import seaborn as sns\n",
    "import numpy as np"
   ]
  },
  {
   "cell_type": "code",
   "execution_count": 13,
   "id": "abab2089",
   "metadata": {},
   "outputs": [],
   "source": [
    "animals = pd.read_csv(r'data\\k-means-animals.csv')"
   ]
  },
  {
   "cell_type": "code",
   "execution_count": 14,
   "id": "4aa4bf3a",
   "metadata": {},
   "outputs": [],
   "source": [
    "animals.drop(['Region', 'Stage', 'Individual ID', 'Comments'], axis=1, inplace=True)"
   ]
  },
  {
   "cell_type": "code",
   "execution_count": 15,
   "id": "0df97862",
   "metadata": {},
   "outputs": [],
   "source": [
    "animals.dropna(inplace=True)"
   ]
  },
  {
   "cell_type": "code",
   "execution_count": 16,
   "id": "01493952",
   "metadata": {},
   "outputs": [
    {
     "data": {
      "text/html": [
       "<div>\n",
       "<style scoped>\n",
       "    .dataframe tbody tr th:only-of-type {\n",
       "        vertical-align: middle;\n",
       "    }\n",
       "\n",
       "    .dataframe tbody tr th {\n",
       "        vertical-align: top;\n",
       "    }\n",
       "\n",
       "    .dataframe thead th {\n",
       "        text-align: right;\n",
       "    }\n",
       "</style>\n",
       "<table border=\"1\" class=\"dataframe\">\n",
       "  <thead>\n",
       "    <tr style=\"text-align: right;\">\n",
       "      <th></th>\n",
       "      <th>Culmen Length (mm)</th>\n",
       "      <th>Culmen Depth (mm)</th>\n",
       "      <th>Flipper Length (mm)</th>\n",
       "      <th>Body Mass (g)</th>\n",
       "      <th>Delta 15 N (o/oo)</th>\n",
       "      <th>Delta 13 C (o/oo)</th>\n",
       "    </tr>\n",
       "  </thead>\n",
       "  <tbody>\n",
       "    <tr>\n",
       "      <th>count</th>\n",
       "      <td>330.000000</td>\n",
       "      <td>330.000000</td>\n",
       "      <td>330.000000</td>\n",
       "      <td>330.000000</td>\n",
       "      <td>330.000000</td>\n",
       "      <td>330.000000</td>\n",
       "    </tr>\n",
       "    <tr>\n",
       "      <th>mean</th>\n",
       "      <td>44.047273</td>\n",
       "      <td>17.105455</td>\n",
       "      <td>201.312121</td>\n",
       "      <td>4215.833333</td>\n",
       "      <td>8.733382</td>\n",
       "      <td>-25.692045</td>\n",
       "    </tr>\n",
       "    <tr>\n",
       "      <th>std</th>\n",
       "      <td>5.446876</td>\n",
       "      <td>1.978632</td>\n",
       "      <td>13.962482</td>\n",
       "      <td>805.148981</td>\n",
       "      <td>0.551770</td>\n",
       "      <td>0.788226</td>\n",
       "    </tr>\n",
       "    <tr>\n",
       "      <th>min</th>\n",
       "      <td>32.100000</td>\n",
       "      <td>13.100000</td>\n",
       "      <td>172.000000</td>\n",
       "      <td>2700.000000</td>\n",
       "      <td>7.632200</td>\n",
       "      <td>-27.018540</td>\n",
       "    </tr>\n",
       "    <tr>\n",
       "      <th>25%</th>\n",
       "      <td>39.500000</td>\n",
       "      <td>15.500000</td>\n",
       "      <td>190.000000</td>\n",
       "      <td>3550.000000</td>\n",
       "      <td>8.299890</td>\n",
       "      <td>-26.323158</td>\n",
       "    </tr>\n",
       "    <tr>\n",
       "      <th>50%</th>\n",
       "      <td>44.900000</td>\n",
       "      <td>17.250000</td>\n",
       "      <td>197.000000</td>\n",
       "      <td>4050.000000</td>\n",
       "      <td>8.652405</td>\n",
       "      <td>-25.842775</td>\n",
       "    </tr>\n",
       "    <tr>\n",
       "      <th>75%</th>\n",
       "      <td>48.575000</td>\n",
       "      <td>18.600000</td>\n",
       "      <td>214.000000</td>\n",
       "      <td>4793.750000</td>\n",
       "      <td>9.172123</td>\n",
       "      <td>-25.064653</td>\n",
       "    </tr>\n",
       "    <tr>\n",
       "      <th>max</th>\n",
       "      <td>59.600000</td>\n",
       "      <td>21.500000</td>\n",
       "      <td>231.000000</td>\n",
       "      <td>6300.000000</td>\n",
       "      <td>10.025440</td>\n",
       "      <td>-23.890170</td>\n",
       "    </tr>\n",
       "  </tbody>\n",
       "</table>\n",
       "</div>"
      ],
      "text/plain": [
       "       Culmen Length (mm)  Culmen Depth (mm)  Flipper Length (mm)  \\\n",
       "count          330.000000         330.000000           330.000000   \n",
       "mean            44.047273          17.105455           201.312121   \n",
       "std              5.446876           1.978632            13.962482   \n",
       "min             32.100000          13.100000           172.000000   \n",
       "25%             39.500000          15.500000           190.000000   \n",
       "50%             44.900000          17.250000           197.000000   \n",
       "75%             48.575000          18.600000           214.000000   \n",
       "max             59.600000          21.500000           231.000000   \n",
       "\n",
       "       Body Mass (g)  Delta 15 N (o/oo)  Delta 13 C (o/oo)  \n",
       "count     330.000000         330.000000         330.000000  \n",
       "mean     4215.833333           8.733382         -25.692045  \n",
       "std       805.148981           0.551770           0.788226  \n",
       "min      2700.000000           7.632200         -27.018540  \n",
       "25%      3550.000000           8.299890         -26.323158  \n",
       "50%      4050.000000           8.652405         -25.842775  \n",
       "75%      4793.750000           9.172123         -25.064653  \n",
       "max      6300.000000          10.025440         -23.890170  "
      ]
     },
     "execution_count": 16,
     "metadata": {},
     "output_type": "execute_result"
    }
   ],
   "source": [
    "animals.describe()"
   ]
  },
  {
   "cell_type": "code",
   "execution_count": 17,
   "id": "35166df2",
   "metadata": {},
   "outputs": [],
   "source": [
    "animals_std = pd.DataFrame(StandardScaler().fit_transform(animals))"
   ]
  },
  {
   "cell_type": "code",
   "execution_count": 18,
   "id": "34c3d8d3",
   "metadata": {},
   "outputs": [],
   "source": [
    "animals_std.columns = animals.columns"
   ]
  },
  {
   "cell_type": "code",
   "execution_count": 19,
   "id": "c95b603d",
   "metadata": {},
   "outputs": [
    {
     "data": {
      "text/html": [
       "<div>\n",
       "<style scoped>\n",
       "    .dataframe tbody tr th:only-of-type {\n",
       "        vertical-align: middle;\n",
       "    }\n",
       "\n",
       "    .dataframe tbody tr th {\n",
       "        vertical-align: top;\n",
       "    }\n",
       "\n",
       "    .dataframe thead th {\n",
       "        text-align: right;\n",
       "    }\n",
       "</style>\n",
       "<table border=\"1\" class=\"dataframe\">\n",
       "  <thead>\n",
       "    <tr style=\"text-align: right;\">\n",
       "      <th></th>\n",
       "      <th>Culmen Length (mm)</th>\n",
       "      <th>Culmen Depth (mm)</th>\n",
       "      <th>Flipper Length (mm)</th>\n",
       "      <th>Body Mass (g)</th>\n",
       "      <th>Delta 15 N (o/oo)</th>\n",
       "      <th>Delta 13 C (o/oo)</th>\n",
       "    </tr>\n",
       "  </thead>\n",
       "  <tbody>\n",
       "    <tr>\n",
       "      <th>count</th>\n",
       "      <td>3.300000e+02</td>\n",
       "      <td>3.300000e+02</td>\n",
       "      <td>3.300000e+02</td>\n",
       "      <td>3.300000e+02</td>\n",
       "      <td>3.300000e+02</td>\n",
       "      <td>3.300000e+02</td>\n",
       "    </tr>\n",
       "    <tr>\n",
       "      <th>mean</th>\n",
       "      <td>1.269691e-15</td>\n",
       "      <td>1.818411e-15</td>\n",
       "      <td>-3.148996e-16</td>\n",
       "      <td>6.553680e-16</td>\n",
       "      <td>-9.904535e-16</td>\n",
       "      <td>2.644013e-15</td>\n",
       "    </tr>\n",
       "    <tr>\n",
       "      <th>std</th>\n",
       "      <td>1.001519e+00</td>\n",
       "      <td>1.001519e+00</td>\n",
       "      <td>1.001519e+00</td>\n",
       "      <td>1.001519e+00</td>\n",
       "      <td>1.001519e+00</td>\n",
       "      <td>1.001519e+00</td>\n",
       "    </tr>\n",
       "    <tr>\n",
       "      <th>min</th>\n",
       "      <td>-2.196748e+00</td>\n",
       "      <td>-2.027429e+00</td>\n",
       "      <td>-2.102537e+00</td>\n",
       "      <td>-1.885533e+00</td>\n",
       "      <td>-1.998755e+00</td>\n",
       "      <td>-1.685442e+00</td>\n",
       "    </tr>\n",
       "    <tr>\n",
       "      <th>25%</th>\n",
       "      <td>-8.361083e-01</td>\n",
       "      <td>-8.126283e-01</td>\n",
       "      <td>-8.114101e-01</td>\n",
       "      <td>-8.282249e-01</td>\n",
       "      <td>-7.868310e-01</td>\n",
       "      <td>-8.018904e-01</td>\n",
       "    </tr>\n",
       "    <tr>\n",
       "      <th>50%</th>\n",
       "      <td>1.567912e-01</td>\n",
       "      <td>7.316416e-02</td>\n",
       "      <td>-3.093053e-01</td>\n",
       "      <td>-2.062788e-01</td>\n",
       "      <td>-1.469808e-01</td>\n",
       "      <td>-1.915173e-01</td>\n",
       "    </tr>\n",
       "    <tr>\n",
       "      <th>75%</th>\n",
       "      <td>8.325145e-01</td>\n",
       "      <td>7.564898e-01</td>\n",
       "      <td>9.100922e-01</td>\n",
       "      <td>7.188661e-01</td>\n",
       "      <td>7.963586e-01</td>\n",
       "      <td>7.971636e-01</td>\n",
       "    </tr>\n",
       "    <tr>\n",
       "      <th>max</th>\n",
       "      <td>2.859684e+00</td>\n",
       "      <td>2.224375e+00</td>\n",
       "      <td>2.129490e+00</td>\n",
       "      <td>2.592479e+00</td>\n",
       "      <td>2.345216e+00</td>\n",
       "      <td>2.289459e+00</td>\n",
       "    </tr>\n",
       "  </tbody>\n",
       "</table>\n",
       "</div>"
      ],
      "text/plain": [
       "       Culmen Length (mm)  Culmen Depth (mm)  Flipper Length (mm)  \\\n",
       "count        3.300000e+02       3.300000e+02         3.300000e+02   \n",
       "mean         1.269691e-15       1.818411e-15        -3.148996e-16   \n",
       "std          1.001519e+00       1.001519e+00         1.001519e+00   \n",
       "min         -2.196748e+00      -2.027429e+00        -2.102537e+00   \n",
       "25%         -8.361083e-01      -8.126283e-01        -8.114101e-01   \n",
       "50%          1.567912e-01       7.316416e-02        -3.093053e-01   \n",
       "75%          8.325145e-01       7.564898e-01         9.100922e-01   \n",
       "max          2.859684e+00       2.224375e+00         2.129490e+00   \n",
       "\n",
       "       Body Mass (g)  Delta 15 N (o/oo)  Delta 13 C (o/oo)  \n",
       "count   3.300000e+02       3.300000e+02       3.300000e+02  \n",
       "mean    6.553680e-16      -9.904535e-16       2.644013e-15  \n",
       "std     1.001519e+00       1.001519e+00       1.001519e+00  \n",
       "min    -1.885533e+00      -1.998755e+00      -1.685442e+00  \n",
       "25%    -8.282249e-01      -7.868310e-01      -8.018904e-01  \n",
       "50%    -2.062788e-01      -1.469808e-01      -1.915173e-01  \n",
       "75%     7.188661e-01       7.963586e-01       7.971636e-01  \n",
       "max     2.592479e+00       2.345216e+00       2.289459e+00  "
      ]
     },
     "execution_count": 19,
     "metadata": {},
     "output_type": "execute_result"
    }
   ],
   "source": [
    "animals_std.describe()"
   ]
  },
  {
   "cell_type": "code",
   "execution_count": 20,
   "id": "f1568727",
   "metadata": {},
   "outputs": [],
   "source": [
    "x = animals_std['Body Mass (g)']\n",
    "y = animals_std['Flipper Length (mm)']"
   ]
  },
  {
   "cell_type": "code",
   "execution_count": 21,
   "id": "eb3a116e",
   "metadata": {},
   "outputs": [
    {
     "data": {
      "image/png": "[encoded data removed]",
      "text/plain": [
       "<Figure size 432x288 with 1 Axes>"
      ]
     },
     "metadata": {
      "needs_background": "light"
     },
     "output_type": "display_data"
    }
   ],
   "source": [
    "ax = plt.scatter(x, y)"
   ]
  },
  {
   "cell_type": "code",
   "execution_count": 22,
   "id": "d0da80ce",
   "metadata": {},
   "outputs": [],
   "source": [
    "dbm = DBSCAN(eps=1, min_samples=12).fit(animals_std)"
   ]
  },
  {
   "cell_type": "code",
   "execution_count": 23,
   "id": "75b5fc47",
   "metadata": {},
   "outputs": [
    {
     "name": "stdout",
     "output_type": "stream",
     "text": [
      "[-1 -1  0 -1  0 -1 -1  0 -1  0 -1  0 -1 -1 -1 -1 -1 -1 -1  0 -1 -1 -1 -1\n",
      " -1 -1  0  0 -1 -1 -1 -1 -1 -1 -1 -1 -1 -1 -1  0  0  0  0  0  0  0  0  0\n",
      "  0  0  0  0  0  0  0  0  0  0  0 -1  0  0  0  0  0  0  0 -1  0 -1  0 -1\n",
      "  0  0  0  0  0  0  0 -1  0 -1  0  0  0  0  0  0  0  0  0  0 -1  0  0  0\n",
      " -1 -1 -1 -1  0  0  0  0  0  0 -1 -1  0  0  0  0 -1  0  0  0  0  0  0  0\n",
      "  0  0  0  0  0  0  0  0  0  0  0 -1  0  0  0  0  0  0  0  0  0  1  1  1\n",
      "  1  1  1 -1 -1 -1 -1  1 -1  1  1  1  1  1 -1  1  1  1  1 -1  1  1  1 -1\n",
      "  1  1  1 -1 -1  1  1  1 -1  1 -1 -1 -1  1  1  1  1  1  1  1 -1  1  1  1\n",
      "  1  1  1  1  1  1  1  1  1  1  1 -1  1  1  1  1  2  2  2  2  2  2  2  2\n",
      "  2  2  2  2  2  2  2  2  2  2  2  2  2  2  2  2  2  2  2  2  2  2  2  2\n",
      " -1  2  2  2 -1  2 -1  2  2  2  2  2  2  2  2  2  2  2  2  2  2  2  2  2\n",
      "  2  2  2  2  2  2  2  2  2  2  2  2  2  2  2  2  2  2  2  2  2  2  2  2\n",
      "  2  2  2  2  2  2  2  2  2  2  2  2 -1  2  2  2  2  2  2  2  2  2  2  2\n",
      "  2  2  2  2  2  2  2  2 -1  2  2  2  2  2  2  2  2  2]\n"
     ]
    }
   ],
   "source": [
    "clusters = dbm.labels_\n",
    "print(clusters)"
   ]
  },
  {
   "cell_type": "code",
   "execution_count": 24,
   "id": "c4e98866",
   "metadata": {},
   "outputs": [
    {
     "data": {
      "image/png": "[encoded data removed]",
      "text/plain": [
       "<Figure size 432x288 with 1 Axes>"
      ]
     },
     "metadata": {
      "needs_background": "light"
     },
     "output_type": "display_data"
    }
   ],
   "source": [
    "plt_df = animals_std\n",
    "plt_df['Cluster'] = clusters\n",
    "u_label = np.unique(clusters)\n",
    "for i in u_label:\n",
    "    temp_df = plt_df[plt_df['Cluster'] == i]\n",
    "    ax = sns.scatterplot(x=temp_df['Body Mass (g)'], y=temp_df['Flipper Length (mm)'])\n",
    "    ax.set(title='Flipper Length vs. Body Mass, DBSCAN Clusters')"
   ]
  },
  {
   "cell_type": "code",
   "execution_count": 14,
   "id": "78f081c6",
   "metadata": {},
   "outputs": [
    {
     "data": {
      "image/png": "[encoded data removed]",
      "text/plain": [
       "<Figure size 432x288 with 1 Axes>"
      ]
     },
     "metadata": {
      "needs_background": "light"
     },
     "output_type": "display_data"
    }
   ],
   "source": [
    "from sklearn.neighbors import NearestNeighbors\n",
    "nearest_neighbors = NearestNeighbors(n_neighbors=11)\n",
    "nearest_neighbors.fit(animals_std)\n",
    "distances, indices = nearest_neighbors.kneighbors(animals_std)\n",
    "distances = np.sort(distances, axis=0)[:, 1]\n",
    "plt.plot(distances)\n",
    "plt.show()"
   ]
  },
  {
   "cell_type": "code",
   "execution_count": 15,
   "id": "8c2835a1",
   "metadata": {},
   "outputs": [
    {
     "data": {
      "image/png": "[encoded data removed]",
      "text/plain": [
       "<Figure size 432x288 with 1 Axes>"
      ]
     },
     "metadata": {
      "needs_background": "light"
     },
     "output_type": "display_data"
    }
   ],
   "source": [
    "from sklearn.cluster import KMeans\n",
    "km_models = {}\n",
    "\n",
    "km = KMeans(n_clusters=3, random_state=0)\n",
    "km.fit(animals_std)\n",
    "\n",
    "for k in range(2, 10):\n",
    "    km = KMeans(n_clusters=k, random_state=0)\n",
    "    km.fit(animals_std)\n",
    "    km_models[k] = km\n",
    "color_dict = {0: 'green', 1: 'red', 2: 'blue', 3: 'black', 4: 'yellow', 5: 'pink', 6: 'brown', 7: 'purple', 8: 'orange'}\n",
    "\n",
    "k = 3\n",
    "\n",
    "animals_std['label'] = km_models[k].labels_\n",
    "\n",
    "fig, ax = plt.subplots()\n",
    "\n",
    "for i in range(k):\n",
    "    ax.scatter(animals_std[animals_std['label'] == i]['Body Mass (g)'], animals_std[animals_std['label'] == i]['Flipper Length (mm)'], c=color_dict[i], label=i)\n",
    "\n",
    "ax.legend(loc='upper left')\n",
    "ax.grid(True)\n",
    "ax.set(title='Flipper Length vs. Body Mass, K-Means', ylabel='Flipper Length (mm)', xlabel='Body Mass (g)')\n",
    "\n",
    "plt.show()"
   ]
  },
  {
   "cell_type": "code",
   "execution_count": null,
   "id": "5ceb3e14",
   "metadata": {},
   "outputs": [],
   "source": []
  }
 ],
 "metadata": {
  "kernelspec": {
   "display_name": "Python 3 (ipykernel)",
   "language": "python",
   "name": "python3"
  },
  "language_info": {
   "codemirror_mode": {
    "name": "ipython",
    "version": 3
   },
   "file_extension": ".py",
   "mimetype": "text/x-python",
   "name": "python",
   "nbconvert_exporter": "python",
   "pygments_lexer": "ipython3",
   "version": "3.9.7"
  }
 },
 "nbformat": 4,
 "nbformat_minor": 5
}
